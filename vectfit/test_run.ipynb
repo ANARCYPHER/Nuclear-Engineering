{
 "cells": [
  {
   "cell_type": "code",
   "execution_count": 1,
   "metadata": {
    "collapsed": true
   },
   "outputs": [],
   "source": [
    "%matplotlib inline\n",
    "import numpy as np\n",
    "import matplotlib.pyplot as plt\n",
    "\n",
    "import vectfit as m"
   ]
  },
  {
   "cell_type": "markdown",
   "metadata": {},
   "source": [
    "### Function vectfit"
   ]
  },
  {
   "cell_type": "code",
   "execution_count": 2,
   "metadata": {},
   "outputs": [
    {
     "data": {
      "text/plain": [
       "9.619933845662216e-11"
      ]
     },
     "execution_count": 2,
     "metadata": {},
     "output_type": "execute_result"
    }
   ],
   "source": [
    "# construting signal\n",
    "Ns = 101\n",
    "s = np.linspace(3., 7., Ns)\n",
    "poles = [5.0+0.1j, 5.0-0.1j]\n",
    "residues = [[0.5-11.0j, 0.5+11.0j],\n",
    "            [1.5-20.0j, 1.5+20.0j]]\n",
    "f = m.evaluate(s, poles, residues)\n",
    "weight = 1.0/f\n",
    "poles_init = [3.5 + 0.035j, 3.5 - 0.035j]\n",
    "\n",
    "# run vector fitting\n",
    "# single iteration\n",
    "poles_fit, residues_fit, cf, f_fit, rms = m.vectfit(f, s, poles_init, weight)\n",
    "\n",
    "# rms error\n",
    "rms"
   ]
  },
  {
   "cell_type": "code",
   "execution_count": 3,
   "metadata": {
    "collapsed": true
   },
   "outputs": [],
   "source": [
    "### evaluate at finer points\n",
    "s_test = np.linspace(3., 7., 5*Ns)\n",
    "f_test = m.evaluate(s_test, poles, residues, cf)"
   ]
  },
  {
   "cell_type": "code",
   "execution_count": 4,
   "metadata": {},
   "outputs": [
    {
     "data": {
      "image/png": "[encoded data removed]",
      "text/plain": [
       "<Figure size 432x288 with 1 Axes>"
      ]
     },
     "metadata": {},
     "output_type": "display_data"
    }
   ],
   "source": [
    "# plot\n",
    "plt.plot(s, f[0], 'r.', label='f[0]')\n",
    "plt.plot(s, f_fit[0], 'b*', label='f_fit[0]')\n",
    "plt.plot(s_test, f_test[0], 'g', label='f_test[0]')\n",
    "plt.xlabel('s')\n",
    "plt.ylabel('f')\n",
    "plt.legend()\n",
    "plt.show()"
   ]
  },
  {
   "cell_type": "markdown",
   "metadata": {},
   "source": [
    "### Large problem"
   ]
  },
  {
   "cell_type": "code",
   "execution_count": 5,
   "metadata": {},
   "outputs": [],
   "source": [
    "Ns = 50000\n",
    "N = 1000\n",
    "s = np.linspace(1.e-2, 5.e3, Ns)\n",
    "poles = np.linspace(1.1e-2, 4.8e+3, N/2);\n",
    "poles = poles + poles*0.01j\n",
    "poles = np.sort(np.append(poles, np.conj(poles)))\n",
    "residues = np.linspace(1e+2, 1e+6, N/2);\n",
    "residues = residues + residues*0.5j\n",
    "residues = np.sort(np.append(residues, np.conj(residues)))\n",
    "residues = residues.reshape((1, N))\n",
    "f = np.zeros((1, Ns))\n",
    "for p, r in zip(poles, residues[0]):\n",
    "    f[0] += (r/(s - p)).real\n",
    "weight = 1.0/f\n",
    "\n",
    "poles_init = np.linspace(1.2e-2, 4.7e+3, N/2);\n",
    "poles_init = poles_init + poles_init*0.01j\n",
    "poles_init = np.sort(np.append(poles_init, np.conj(poles_init)))"
   ]
  },
  {
   "cell_type": "code",
   "execution_count": 6,
   "metadata": {},
   "outputs": [
    {
     "name": "stdout",
     "output_type": "stream",
     "text": [
      "CPU times: user 4min 14s, sys: 6min 42s, total: 10min 57s\n",
      "Wall time: 2min 51s\n"
     ]
    },
    {
     "data": {
      "text/plain": [
       "0.005450713259715198"
      ]
     },
     "execution_count": 6,
     "metadata": {},
     "output_type": "execute_result"
    }
   ],
   "source": [
    "%time poles_fit, residues_fit, cf, f_fit, rms = m.vectfit(f, s, poles_init, weight)\n",
    "rms"
   ]
  },
  {
   "cell_type": "code",
   "execution_count": 7,
   "metadata": {
    "collapsed": true
   },
   "outputs": [],
   "source": [
    "np.testing.assert_allclose(f, f_fit, 1e-2)"
   ]
  }
 ],
 "metadata": {
  "kernelspec": {
   "display_name": "Python 3",
   "language": "python",
   "name": "python3"
  },
  "language_info": {
   "codemirror_mode": {
    "name": "ipython",
    "version": 3
   },
   "file_extension": ".py",
   "mimetype": "text/x-python",
   "name": "python",
   "nbconvert_exporter": "python",
   "pygments_lexer": "ipython3",
   "version": "3.5.5"
  }
 },
 "nbformat": 4,
 "nbformat_minor": 2
}
