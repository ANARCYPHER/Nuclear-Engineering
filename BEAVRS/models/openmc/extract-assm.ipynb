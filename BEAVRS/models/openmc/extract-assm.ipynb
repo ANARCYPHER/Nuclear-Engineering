{
 "cells": [
  {
   "cell_type": "markdown",
   "metadata": {},
   "source": [
    "## Pre-requisites\n",
    "\n",
    "This Notebook requires the following to be installed on one's machine:\n",
    "\n",
    "* **openmc**\n",
    "* **beavrs**\n",
    "\n",
    "**NOTE**: You can install the `beavrs` Python module by running the following in the terminal:\n",
    "\n",
    "```\n",
    "$ python setup.py install --user\n",
    "```"
   ]
  },
  {
   "cell_type": "code",
   "execution_count": 1,
   "metadata": {},
   "outputs": [],
   "source": [
    "import openmc\n",
    "import beavrs.builder\n",
    "import beavrs.constants as c\n",
    "from IPython.display import Image"
   ]
  },
  {
   "cell_type": "markdown",
   "metadata": {},
   "source": [
    "## Create BEAVRS Model"
   ]
  },
  {
   "cell_type": "code",
   "execution_count": 2,
   "metadata": {
    "collapsed": true
   },
   "outputs": [],
   "source": [
    "# Instantiate a BEAVRS object from the mit-crpg/PWR_benchmarks repository\n",
    "b = beavrs.builder.BEAVRS()"
   ]
  },
  {
   "cell_type": "markdown",
   "metadata": {},
   "source": [
    "The BEAVRS model represented by variable `b` encapsulates the fully-detailed 3D BEAVRS core geometry and materials built using the OpenMC Python API."
   ]
  },
  {
   "cell_type": "markdown",
   "metadata": {},
   "source": [
    "## Create \"geometry.xml\""
   ]
  },
  {
   "cell_type": "markdown",
   "metadata": {},
   "source": [
    "We wish to extract a fuel assembly from the BEAVRS `Geometry` object for our simulation. We will first extract a Python `list` of all `Lattice` objects in the `Geometry` using the `Geometry.get_all_lattices()` routine:"
   ]
  },
  {
   "cell_type": "code",
   "execution_count": 3,
   "metadata": {
    "collapsed": true
   },
   "outputs": [],
   "source": [
    "# Get all OpenMC Lattices in a Python list\n",
    "all_latts = b.openmc_geometry.get_all_lattices()"
   ]
  },
  {
   "cell_type": "markdown",
   "metadata": {},
   "source": [
    "There are a number of different fuel assembly `Lattices` in the BEAVRS model, each of which has been assigned a unique string name. let's loop over all `Lattices` and report the string name for each `Lattice`:"
   ]
  },
  {
   "cell_type": "code",
   "execution_count": 4,
   "metadata": {},
   "outputs": [
    {
     "name": "stdout",
     "output_type": "stream",
     "text": [
      "762 Core Lattice\n",
      "336 Fuel 3.1% enr no instr no BAs\n",
      "354 Fuel 3.1% enr no instr 6S\n",
      "339 Fuel 3.1% enr instr no BAs\n",
      "357 Fuel 3.1% enr instr 6S\n",
      "420 Fuel 3.1% enr no instr RCCA SA\n",
      "408 Fuel 3.1% enr no instr 16\n",
      "159 Fuel 1.6% enr instr RCCA B\n",
      "414 Fuel 3.1% enr no instr 20\n",
      "171 Fuel 1.6% enr instr RCCA C\n",
      "156 Fuel 1.6% enr no instr RCCA B\n",
      "402 Fuel 3.1% enr no instr 15SE\n",
      "270 Fuel 2.4% enr no instr 16\n",
      "192 Fuel 1.6% enr no instr RCCA SD\n",
      "174 Fuel 1.6% enr no instr RCCA SB\n",
      "273 Fuel 2.4% enr instr 16\n",
      "162 Fuel 1.6% enr no instr RCCA SC\n",
      "396 Fuel 3.1% enr no instr 15SW\n",
      "423 Fuel 3.1% enr instr RCCA SA\n",
      "324 Fuel 2.4% enr no instr RCCA D\n",
      "60 Fuel 1.6% enr no instr no BAs\n",
      "240 Fuel 2.4% enr no instr 12\n",
      "183 Fuel 1.6% enr instr RCCA SE\n",
      "63 Fuel 1.6% enr instr no BAs\n",
      "195 Fuel 1.6% enr instr RCCA SD\n",
      "363 Fuel 3.1% enr instr 6E\n",
      "153 Fuel 1.6% enr instr RCCA A\n",
      "168 Fuel 1.6% enr no instr RCCA C\n",
      "366 Fuel 3.1% enr no instr 6W\n",
      "243 Fuel 2.4% enr instr 12\n",
      "177 Fuel 1.6% enr instr RCCA SB\n",
      "180 Fuel 1.6% enr no instr RCCA SE\n",
      "150 Fuel 1.6% enr no instr RCCA A\n",
      "186 Fuel 1.6% enr no instr RCCA D\n",
      "417 Fuel 3.1% enr instr 20\n",
      "360 Fuel 3.1% enr no instr 6E\n",
      "327 Fuel 2.4% enr instr RCCA D\n",
      "393 Fuel 3.1% enr instr 15NE\n",
      "165 Fuel 1.6% enr instr RCCA SC\n",
      "384 Fuel 3.1% enr no instr 15NW\n",
      "348 Fuel 3.1% enr no instr 6N\n",
      "351 Fuel 3.1% enr instr 6N\n"
     ]
    }
   ],
   "source": [
    "# Print the name of each Lattice\n",
    "for id, latt in all_latts.items():\n",
    "    print(id, latt.name)"
   ]
  },
  {
   "cell_type": "markdown",
   "metadata": {},
   "source": [
    "Now that we know the names of all of the `Lattices` in the BEAVRS `Geometry`, let's select out the one we wish to model."
   ]
  },
  {
   "cell_type": "code",
   "execution_count": 5,
   "metadata": {
    "collapsed": true
   },
   "outputs": [],
   "source": [
    "# Find the 1.6% enriched fuel lattice w/o BAs\n",
    "assembly_name = 'Fuel 1.6% enr instr no BAs'\n",
    "for id, latt in all_latts.items():\n",
    "    if latt.name == assembly_name:\n",
    "        assembly = latt"
   ]
  },
  {
   "cell_type": "markdown",
   "metadata": {},
   "source": [
    "We can inspect our chosen fuel assembly using OpenMC's built-in string representation for the object:"
   ]
  },
  {
   "cell_type": "code",
   "execution_count": 6,
   "metadata": {},
   "outputs": [
    {
     "data": {
      "text/plain": [
       "RectLattice\n",
       "\tID             =\t63\n",
       "\tName           =\tFuel 1.6% enr instr no BAs\n",
       "\tShape          =\t(17, 17)\n",
       "\tLower Left     =\t[-10.70864, -10.70864]\n",
       "\tPitch          =\t[1.25984, 1.25984]\n",
       "\tOuter          =\tNone\n",
       "\tUniverses      \n",
       "15 15 15 15 15 15 15 15 15 15 15 15 15 15 15 15 15 \n",
       "15 15 15 15 15 15 15 15 15 15 15 15 15 15 15 15 15 \n",
       "15 15 15 15 15 27 15 15 27 15 15 27 15 15 15 15 15 \n",
       "15 15 15 27 15 15 15 15 15 15 15 15 15 27 15 15 15 \n",
       "15 15 15 15 15 15 15 15 15 15 15 15 15 15 15 15 15 \n",
       "15 15 27 15 15 27 15 15 27 15 15 27 15 15 27 15 15 \n",
       "15 15 15 15 15 15 15 15 15 15 15 15 15 15 15 15 15 \n",
       "15 15 15 15 15 15 15 15 15 15 15 15 15 15 15 15 15 \n",
       "15 15 27 15 15 27 15 15 33 15 15 27 15 15 27 15 15 \n",
       "15 15 15 15 15 15 15 15 15 15 15 15 15 15 15 15 15 \n",
       "15 15 15 15 15 15 15 15 15 15 15 15 15 15 15 15 15 \n",
       "15 15 27 15 15 27 15 15 27 15 15 27 15 15 27 15 15 \n",
       "15 15 15 15 15 15 15 15 15 15 15 15 15 15 15 15 15 \n",
       "15 15 15 27 15 15 15 15 15 15 15 15 15 27 15 15 15 \n",
       "15 15 15 15 15 27 15 15 27 15 15 27 15 15 15 15 15 \n",
       "15 15 15 15 15 15 15 15 15 15 15 15 15 15 15 15 15 \n",
       "15 15 15 15 15 15 15 15 15 15 15 15 15 15 15 15 15 "
      ]
     },
     "execution_count": 6,
     "metadata": {},
     "output_type": "execute_result"
    }
   ],
   "source": [
    "assembly"
   ]
  },
  {
   "cell_type": "markdown",
   "metadata": {},
   "source": [
    "We need to construct a sub-geometry encapsulating only this fuel assembly rather than the entire BEAVRS core. We will do this by first creating a \"root\" cell and fill it with our fuel assembly:"
   ]
  },
  {
   "cell_type": "code",
   "execution_count": 7,
   "metadata": {
    "collapsed": true
   },
   "outputs": [],
   "source": [
    "# Create surface objects for our \"root\" cell\"\n",
    "lattice_sides = openmc.model.get_rectangular_prism(17*c.pinPitch, 17*c.pinPitch,\n",
    "                                                   boundary_type='reflective')\n",
    "min_z = openmc.ZPlane(z0=c.struct_LowestExtent, boundary_type='vacuum')\n",
    "max_z = openmc.ZPlane(z0=c.struct_HighestExtent, boundary_type='vacuum')\n",
    "\n",
    "# Create a \"root\" cell filled by the fuel assembly\n",
    "root_cell = openmc.Cell(name='root cell',\n",
    "                        fill=assembly,\n",
    "                        region=lattice_sides & +min_z & -max_z\n",
    "                       )"
   ]
  },
  {
   "cell_type": "markdown",
   "metadata": {},
   "source": [
    "We then create a \"root\" universe and add our \"root\" cell to it:"
   ]
  },
  {
   "cell_type": "code",
   "execution_count": 8,
   "metadata": {
    "collapsed": true
   },
   "outputs": [],
   "source": [
    "# Create a \"root\" universe with ID=0 and add the \"root\" cell to it\n",
    "root_univ = openmc.Universe(name='root universe', cells=[root_cell])"
   ]
  },
  {
   "cell_type": "markdown",
   "metadata": {},
   "source": [
    "Lastly, the \"root\" universe must be attached to a new OpenMC `Geometry` object representing this new sub-geometry:"
   ]
  },
  {
   "cell_type": "code",
   "execution_count": 9,
   "metadata": {
    "collapsed": true
   },
   "outputs": [],
   "source": [
    "# Create an OpenMC Geometry around root Universe\n",
    "sub_geometry = openmc.Geometry(root_univ)"
   ]
  },
  {
   "cell_type": "markdown",
   "metadata": {},
   "source": [
    "Finally, we are ready to create a \"geometry.xml\" input file for OpenMC! We simply export it to XML as follows:"
   ]
  },
  {
   "cell_type": "code",
   "execution_count": 10,
   "metadata": {
    "collapsed": true
   },
   "outputs": [],
   "source": [
    "# Export the OpenMC Geometry to a \"geometry.xml\" file\n",
    "sub_geometry.export_to_xml()"
   ]
  },
  {
   "cell_type": "markdown",
   "metadata": {},
   "source": [
    "## Create \"materials.xml\""
   ]
  },
  {
   "cell_type": "markdown",
   "metadata": {},
   "source": [
    "Now we need to create materials for our geometry. This is very easy to do with the `b.write_openmc_materials()` routine. The one disadvantage of this is that it will write *all* materials for the entire BEAVRS geometry to a \"materials.xml\" file, most of which are not used in our sub-geometry for a single fuel assembly. Instead, we can write out only those materials that are in our geometry as follows:"
   ]
  },
  {
   "cell_type": "code",
   "execution_count": 11,
   "metadata": {
    "collapsed": true
   },
   "outputs": [],
   "source": [
    "# Get a list of all OpenMC Materials\n",
    "all_materials = sub_geometry.get_all_materials()\n",
    "\n",
    "# Create a MaterialsFile object\n",
    "materials = openmc.Materials(all_materials.values())\n",
    "\n",
    "# Export the OpenMC Materials to a \"materials.xml\" file\n",
    "materials.export_to_xml()"
   ]
  },
  {
   "cell_type": "markdown",
   "metadata": {},
   "source": [
    "## Create \"settings.xml\" "
   ]
  },
  {
   "cell_type": "markdown",
   "metadata": {},
   "source": [
    "Now for the easy part :-) Let's create a \"settings.xml\" file:"
   ]
  },
  {
   "cell_type": "code",
   "execution_count": 12,
   "metadata": {
    "collapsed": true
   },
   "outputs": [],
   "source": [
    "# Create a MaterialsFile object\n",
    "settings = openmc.Settings()\n",
    "\n",
    "# Set any settings of interest\n",
    "settings.batches = 150\n",
    "settings.inactive = 10\n",
    "settings.particles = 1000\n",
    "\n",
    "# Use a bounding box to define the starting source distribution\n",
    "lower_left = [-17*c.pinPitch/2, -17*c.pinPitch/2, c.fuel_ActiveFuel_bot]\n",
    "upper_right = [+17*c.pinPitch/2, +17*c.pinPitch/2, c.fuel_ActiveFuel_top]\n",
    "settings.source = openmc.source.Source(\n",
    "    openmc.stats.Box(lower_left, upper_right, only_fissionable=True))\n",
    "\n",
    "# Export the settings to a \"settings.xml\" file\n",
    "settings.export_to_xml()"
   ]
  },
  {
   "cell_type": "markdown",
   "metadata": {},
   "source": [
    "## Create \"plots.xml\""
   ]
  },
  {
   "cell_type": "code",
   "execution_count": 13,
   "metadata": {
    "collapsed": true
   },
   "outputs": [],
   "source": [
    "# Create a single plot using default paramters (basis='xy', origin=(0,0,0))\n",
    "plot = openmc.Plot(plot_id=1)\n",
    "plot.width = [17*c.pinPitch, 17*c.pinPitch]\n",
    "\n",
    "# Create a PlotsFile object and add our plot to it\n",
    "plot_file = openmc.Plots([plot])\n",
    "\n",
    "# Export the plots to a \"plots.xml\" file\n",
    "plot_file.export_to_xml()"
   ]
  },
  {
   "cell_type": "markdown",
   "metadata": {},
   "source": [
    "With the \"plots.xml\" file, we can now generate and view the plot. We must first instantiate an `openmc.Executor` object and then ask it to plot the geometry(equivalent to running `openmc -p` from within the terminal)."
   ]
  },
  {
   "cell_type": "code",
   "execution_count": 14,
   "metadata": {
    "collapsed": true
   },
   "outputs": [],
   "source": [
    "# Run openmc in plotting mode\n",
    "openmc.plot_geometry(output=False)"
   ]
  },
  {
   "cell_type": "markdown",
   "metadata": {},
   "source": [
    "OpenMC outputs plots in .ppm format, which can be converted into a compressed format like .png with the convert utility. We can view the .png image inline using the `IPython.display.Image` class as follows:"
   ]
  },
  {
   "cell_type": "code",
   "execution_count": 15,
   "metadata": {},
   "outputs": [
    {
     "data": {
      "image/png": "[encoded data removed]",
      "text/plain": [
       "<IPython.core.display.Image object>"
      ]
     },
     "execution_count": 15,
     "metadata": {
      "image/png": {
       "height": 250,
       "width": 250
      }
     },
     "output_type": "execute_result"
    }
   ],
   "source": [
    "# Convert OpenMC's funky ppm to png\n",
    "!convert plot_1.ppm plot.png\n",
    "\n",
    "# Display the plot inline\n",
    "Image(filename='plot.png', width=250, height=250)"
   ]
  },
  {
   "cell_type": "markdown",
   "metadata": {},
   "source": [
    "## Create \"tallies.xml\""
   ]
  },
  {
   "cell_type": "markdown",
   "metadata": {},
   "source": [
    "I'm not exactly sure what you need in the way of tallies, but perhaps I can get you started with a fission tally in the instrument tube. First, let's inspect the names for all of the `Cells` in the geometry using the `all_material_cells` list:"
   ]
  },
  {
   "cell_type": "code",
   "execution_count": 16,
   "metadata": {},
   "outputs": [
    {
     "name": "stdout",
     "output_type": "stream",
     "text": [
      "Fuel rod - 1.6% enr axial 0: Borated Water\n",
      "Fuel rod - 1.6% enr axial 1: SS SPN\n",
      "Fuel rod - 1.6% enr axial 2: Zircaloy 4\n",
      "Fuel rod - 1.6% enr axial 5: Zircaloy 4\n",
      "Fuel rod - 1.6% enr axial 6: Borated Water\n",
      "Fuel rod - 1.6% enr axial 7: SS SPN\n",
      "Fuel rod - 1.6% enr axial top: Borated Water\n",
      "Fuel rod active region - 1.6% enr radial 0: Fuel 1.6%\n",
      "Fuel rod active region - 1.6% enr radial 1: Helium\n",
      "Fuel rod active region - 1.6% enr radial outer: Zircaloy 4\n",
      "Fuel rod plenum radial 0: Inconel 718\n",
      "Fuel rod plenum radial 1: Helium\n",
      "Fuel rod plenum radial outer: Zircaloy 4\n",
      "Grids axial universe axial 0: Borated Water\n",
      "Grids axial universe axial 1: Water SPN\n",
      "Grids axial universe axial 2: Borated Water\n",
      "Grids axial universe axial 4: Borated Water\n",
      "Grids axial universe axial 6: Borated Water\n",
      "Grids axial universe axial 8: Borated Water\n",
      "Grids axial universe axial 10: Borated Water\n",
      "Grids axial universe axial 12: Borated Water\n",
      "Grids axial universe axial 14: Borated Water\n",
      "Grids axial universe axial 16: Borated Water\n",
      "Grids axial universe axial 18: Borated Water\n",
      "Grids axial universe axial 19: Water SPN\n",
      "Grids axial universe axial top: Borated Water\n",
      "Top/Bottom grid pincell radial 0: Borated Water\n",
      "Top/Bottom grid pincell radial outer: Inconel 718\n",
      "Intermediate grid pincell radial 0: Borated Water\n",
      "Intermediate grid pincell radial outer: Zircaloy 4\n",
      "Empty Guide Tube axial 0: Borated Water\n",
      "Empty Guide Tube axial 1: Water SPN\n",
      "Empty Guide Tube axial 4: Water SPN\n",
      "Empty Guide Tube axial top: Borated Water\n",
      "Empty GT below the dashpot radial 0: Borated Water\n",
      "Empty GT below the dashpot radial 1: Zircaloy 4\n",
      "Empty GT below the dashpot radial outer: Borated Water\n",
      "Empty GT above the dashpot radial 0: Borated Water\n",
      "Empty GT above the dashpot radial outer: Zircaloy 4\n",
      "Instrument tube axial stack axial 3: Water SPN\n",
      "Instrument tube axial stack axial top: Borated Water\n",
      "Instrument tube thimble radial 0: Air\n",
      "Instrument tube thimble radial outer: Zircaloy 4\n",
      "Instrument tube thimble support plane radial 0: Air\n",
      "Instrument tube thimble support plane radial outer: Zircaloy 4\n",
      "Empty Guide Tube in Center Position axial 0: Borated Water\n",
      "Empty Guide Tube in Center Position axial 1: Water SPN\n",
      "Empty Guide Tube in Center Position axial 3: Water SPN\n",
      "Empty Guide Tube in Center Position axial top: Borated Water\n"
     ]
    }
   ],
   "source": [
    "all_material_cells = sub_geometry.get_all_material_cells()\n",
    "for id, cell in all_material_cells.items():\n",
    "    print(cell.name)"
   ]
  },
  {
   "cell_type": "markdown",
   "metadata": {},
   "source": [
    "Perhaps you'd like a tally in one of these cells. First, we need to extract the cell(s) of interest:"
   ]
  },
  {
   "cell_type": "code",
   "execution_count": 17,
   "metadata": {
    "collapsed": true
   },
   "outputs": [],
   "source": [
    "cell_name = 'Instrument tube thimble radial 0: Air'\n",
    "for id, cell in all_material_cells.items():\n",
    "    if cell.name == cell_name:\n",
    "        my_cell = cell"
   ]
  },
  {
   "cell_type": "markdown",
   "metadata": {},
   "source": [
    "Let's tally the fast/thermal scatter and absorption rates for all nuclides in our cell. We create a `Tally` to do so as follows:"
   ]
  },
  {
   "cell_type": "code",
   "execution_count": 18,
   "metadata": {
    "collapsed": true
   },
   "outputs": [],
   "source": [
    "# Instantiate a really cool tally\n",
    "tally = openmc.Tally(name='a really cool tally')\n",
    "\n",
    "# Instantiate a cell filter\n",
    "cell_filter = openmc.CellFilter(bins=[my_cell.id])\n",
    "\n",
    "# Instantiate energy filter\n",
    "energy_filter = openmc.EnergyFilter([0., 0.625e-6, 20.])\n",
    "\n",
    "tally.filters = [cell_filter, energy_filter]\n",
    "\n",
    "# Add the scores of interest to the tally\n",
    "tally.scores = ['scatter', 'absorption']\n",
    "\n",
    "# Add all nuclides to the tally for kicks\n",
    "tally.nuclides = my_cell.fill.get_nuclides()"
   ]
  },
  {
   "cell_type": "markdown",
   "metadata": {},
   "source": [
    "Next, we simply need to add our `Tally` object(s) to a `TalliesFile` object and export them to a \"tallies.xml\" file:"
   ]
  },
  {
   "cell_type": "code",
   "execution_count": 19,
   "metadata": {
    "collapsed": true
   },
   "outputs": [],
   "source": [
    "# Instantiate an empty TalliesFile\n",
    "tallies_file = openmc.Tallies()\n",
    "\n",
    "# Add our tally(ies) to the file\n",
    "tallies_file.append(tally)\n",
    "\n",
    "# Export the tallies to a \"tallies.xml\" file\n",
    "tallies_file.export_to_xml()"
   ]
  },
  {
   "cell_type": "markdown",
   "metadata": {},
   "source": [
    "## Run OpenMC!"
   ]
  },
  {
   "cell_type": "markdown",
   "metadata": {},
   "source": [
    "We can run OpenMC from within the notebook if we wish. Wow, isn't this so much more powerful than ASCII!"
   ]
  },
  {
   "cell_type": "code",
   "execution_count": 20,
   "metadata": {},
   "outputs": [
    {
     "name": "stdout",
     "output_type": "stream",
     "text": [
      "\n",
      "                               %%%%%%%%%%%%%%%\n",
      "                          %%%%%%%%%%%%%%%%%%%%%%%%\n",
      "                       %%%%%%%%%%%%%%%%%%%%%%%%%%%%%%\n",
      "                     %%%%%%%%%%%%%%%%%%%%%%%%%%%%%%%%%%\n",
      "                   %%%%%%%%%%%%%%%%%%%%%%%%%%%%%%%%%%%%%%\n",
      "                  %%%%%%%%%%%%%%%%%%%%%%%%%%%%%%%%%%%%%%%%\n",
      "                                   %%%%%%%%%%%%%%%%%%%%%%%%\n",
      "                                    %%%%%%%%%%%%%%%%%%%%%%%%\n",
      "                ###############      %%%%%%%%%%%%%%%%%%%%%%%%\n",
      "               ##################     %%%%%%%%%%%%%%%%%%%%%%%\n",
      "               ###################     %%%%%%%%%%%%%%%%%%%%%%%\n",
      "               ####################     %%%%%%%%%%%%%%%%%%%%%%\n",
      "               #####################     %%%%%%%%%%%%%%%%%%%%%\n",
      "               ######################     %%%%%%%%%%%%%%%%%%%%\n",
      "               #######################     %%%%%%%%%%%%%%%%%%\n",
      "                #######################     %%%%%%%%%%%%%%%%%\n",
      "                ######################     %%%%%%%%%%%%%%%%%\n",
      "                 ####################     %%%%%%%%%%%%%%%%%\n",
      "                   #################     %%%%%%%%%%%%%%%%%\n",
      "                    ###############     %%%%%%%%%%%%%%%%\n",
      "                      ############     %%%%%%%%%%%%%%%\n",
      "                         ########     %%%%%%%%%%%%%%\n",
      "                                     %%%%%%%%%%%\n",
      "\n",
      "                   | The OpenMC Monte Carlo Code\n",
      "         Copyright | 2011-2018 MIT and OpenMC contributors\n",
      "           License | http://openmc.readthedocs.io/en/latest/license.html\n",
      "           Version | 0.10.0\n",
      "          Git SHA1 | 0cf903cc67af4267a8216535fc2fa6a61f4341a1\n",
      "         Date/Time | 2018-08-28 17:16:34\n",
      "     MPI Processes | 2\n",
      "    OpenMP Threads | 20\n",
      "\n",
      " Reading settings XML file...\n",
      " Reading cross sections XML file...\n",
      " Reading materials XML file...\n",
      " Reading geometry XML file...\n",
      " Building neighboring cells lists for each surface...\n",
      " Reading O16 from /home/liangjg/nucdata/nndc_hdf5/O16.h5\n",
      " Reading O17 from /home/liangjg/nucdata/nndc_hdf5/O17.h5\n",
      " Reading N14 from /home/liangjg/nucdata/nndc_hdf5/N14.h5\n",
      " Reading N15 from /home/liangjg/nucdata/nndc_hdf5/N15.h5\n",
      " Reading Ar36 from /home/liangjg/nucdata/nndc_hdf5/Ar36.h5\n",
      " WARNING: Negative value(s) found on probability table for nuclide Ar36         \n",
      "                 at 294K\n",
      " Reading Ar38 from /home/liangjg/nucdata/nndc_hdf5/Ar38.h5\n",
      " Reading Ar40 from /home/liangjg/nucdata/nndc_hdf5/Ar40.h5\n",
      " Reading C0 from /home/liangjg/nucdata/nndc_hdf5/C0.h5\n",
      " Reading He3 from /home/liangjg/nucdata/nndc_hdf5/He3.h5\n",
      " Reading He4 from /home/liangjg/nucdata/nndc_hdf5/He4.h5\n",
      " Reading Si28 from /home/liangjg/nucdata/nndc_hdf5/Si28.h5\n",
      " Reading Si29 from /home/liangjg/nucdata/nndc_hdf5/Si29.h5\n",
      " Reading Si30 from /home/liangjg/nucdata/nndc_hdf5/Si30.h5\n",
      " Reading Cr50 from /home/liangjg/nucdata/nndc_hdf5/Cr50.h5\n",
      " Reading Cr52 from /home/liangjg/nucdata/nndc_hdf5/Cr52.h5\n",
      " Reading Cr53 from /home/liangjg/nucdata/nndc_hdf5/Cr53.h5\n",
      " Reading Cr54 from /home/liangjg/nucdata/nndc_hdf5/Cr54.h5\n",
      " Reading Mn55 from /home/liangjg/nucdata/nndc_hdf5/Mn55.h5\n",
      " Reading Fe54 from /home/liangjg/nucdata/nndc_hdf5/Fe54.h5\n",
      " Reading Fe56 from /home/liangjg/nucdata/nndc_hdf5/Fe56.h5\n",
      " Reading Fe57 from /home/liangjg/nucdata/nndc_hdf5/Fe57.h5\n",
      " Reading Fe58 from /home/liangjg/nucdata/nndc_hdf5/Fe58.h5\n",
      " Reading Ni58 from /home/liangjg/nucdata/nndc_hdf5/Ni58.h5\n",
      " Reading Ni60 from /home/liangjg/nucdata/nndc_hdf5/Ni60.h5\n",
      " Reading Ni61 from /home/liangjg/nucdata/nndc_hdf5/Ni61.h5\n",
      " Reading Ni62 from /home/liangjg/nucdata/nndc_hdf5/Ni62.h5\n",
      " Reading Ni64 from /home/liangjg/nucdata/nndc_hdf5/Ni64.h5\n",
      " Reading Zr90 from /home/liangjg/nucdata/nndc_hdf5/Zr90.h5\n",
      " Reading Zr91 from /home/liangjg/nucdata/nndc_hdf5/Zr91.h5\n",
      " Reading Zr92 from /home/liangjg/nucdata/nndc_hdf5/Zr92.h5\n",
      " Reading Zr94 from /home/liangjg/nucdata/nndc_hdf5/Zr94.h5\n",
      " Reading Zr96 from /home/liangjg/nucdata/nndc_hdf5/Zr96.h5\n",
      " Reading Sn112 from /home/liangjg/nucdata/nndc_hdf5/Sn112.h5\n",
      " Reading Sn114 from /home/liangjg/nucdata/nndc_hdf5/Sn114.h5\n",
      " Reading Sn115 from /home/liangjg/nucdata/nndc_hdf5/Sn115.h5\n",
      " Reading Sn116 from /home/liangjg/nucdata/nndc_hdf5/Sn116.h5\n",
      " Reading Sn117 from /home/liangjg/nucdata/nndc_hdf5/Sn117.h5\n",
      " Reading Sn118 from /home/liangjg/nucdata/nndc_hdf5/Sn118.h5\n",
      " Reading Sn119 from /home/liangjg/nucdata/nndc_hdf5/Sn119.h5\n",
      " Reading Sn120 from /home/liangjg/nucdata/nndc_hdf5/Sn120.h5\n",
      " Reading Sn122 from /home/liangjg/nucdata/nndc_hdf5/Sn122.h5\n",
      " Reading Sn124 from /home/liangjg/nucdata/nndc_hdf5/Sn124.h5\n",
      " Reading U234 from /home/liangjg/nucdata/nndc_hdf5/U234.h5\n",
      " Reading U235 from /home/liangjg/nucdata/nndc_hdf5/U235.h5\n",
      " Reading U238 from /home/liangjg/nucdata/nndc_hdf5/U238.h5\n",
      " Reading U236 from /home/liangjg/nucdata/nndc_hdf5/U236.h5\n",
      " Reading B10 from /home/liangjg/nucdata/nndc_hdf5/B10.h5\n",
      " Reading B11 from /home/liangjg/nucdata/nndc_hdf5/B11.h5\n",
      " Reading H1 from /home/liangjg/nucdata/nndc_hdf5/H1.h5\n",
      " Reading H2 from /home/liangjg/nucdata/nndc_hdf5/H2.h5\n",
      " Reading c_H_in_H2O from /home/liangjg/nucdata/nndc_hdf5/c_H_in_H2O.h5\n",
      " Maximum neutron transport energy: 2.00000E+07 eV for O17\n",
      " Reading tallies XML file...\n",
      " Writing summary.h5 file...\n",
      " Initializing source particles...\n",
      "\n",
      " ====================>     K EIGENVALUE SIMULATION     <====================\n",
      "\n",
      "  Bat./Gen.      k            Average k         \n",
      "  =========   ========   ====================   \n",
      "        1/1    1.04727                       \n",
      "        2/1    1.00574                       \n",
      "        3/1    1.03701                       \n",
      "        4/1    0.96299                       \n",
      "        5/1    0.98797                       \n",
      "        6/1    1.01822                       \n",
      "        7/1    1.00424                       \n",
      "        8/1    1.01493                       \n",
      "        9/1    1.02974                       \n",
      "       10/1    1.02082                       \n",
      "       11/1    1.00522                       \n",
      "       12/1    1.01496    1.01009 +/- 0.00487\n",
      "       13/1    1.01189    1.01069 +/- 0.00287\n",
      "       14/1    0.98296    1.00376 +/- 0.00723\n",
      "       15/1    0.99697    1.00240 +/- 0.00576\n",
      "       16/1    0.98099    0.99883 +/- 0.00590\n",
      "       17/1    0.99588    0.99841 +/- 0.00501\n",
      "       18/1    1.07368    1.00782 +/- 0.01036\n",
      "       19/1    0.95227    1.00165 +/- 0.01103\n",
      "       20/1    1.05009    1.00649 +/- 0.01099\n",
      "       21/1    0.97005    1.00318 +/- 0.01048\n",
      "       22/1    0.99242    1.00228 +/- 0.00961\n",
      "       23/1    1.05491    1.00633 +/- 0.00972\n",
      "       24/1    1.00588    1.00630 +/- 0.00900\n",
      "       25/1    1.00227    1.00603 +/- 0.00838\n",
      "       26/1    0.96455    1.00344 +/- 0.00826\n",
      "       27/1    1.00319    1.00342 +/- 0.00776\n",
      "       28/1    0.98811    1.00257 +/- 0.00736\n",
      "       29/1    1.00272    1.00258 +/- 0.00696\n",
      "       30/1    0.94461    0.99968 +/- 0.00721\n",
      "       31/1    1.01218    1.00028 +/- 0.00689\n",
      "       32/1    0.96420    0.99864 +/- 0.00677\n",
      "       33/1    0.95413    0.99670 +/- 0.00675\n",
      "       34/1    0.97799    0.99592 +/- 0.00651\n",
      "       35/1    0.93211    0.99337 +/- 0.00675\n",
      "       36/1    0.97633    0.99271 +/- 0.00651\n",
      "       37/1    1.01195    0.99343 +/- 0.00631\n",
      "       38/1    0.99218    0.99338 +/- 0.00608\n",
      "       39/1    0.98653    0.99315 +/- 0.00587\n",
      "       40/1    1.01873    0.99400 +/- 0.00574\n",
      "       41/1    0.97922    0.99352 +/- 0.00557\n",
      "       42/1    1.03085    0.99469 +/- 0.00552\n",
      "       43/1    0.99989    0.99485 +/- 0.00535\n",
      "       44/1    1.02227    0.99565 +/- 0.00525\n",
      "       45/1    1.01514    0.99621 +/- 0.00513\n",
      "       46/1    1.02156    0.99691 +/- 0.00503\n",
      "       47/1    0.98417    0.99657 +/- 0.00491\n",
      "       48/1    1.01386    0.99702 +/- 0.00480\n",
      "       49/1    0.98720    0.99677 +/- 0.00468\n",
      "       50/1    1.01058    0.99712 +/- 0.00458\n",
      "       51/1    1.03660    0.99808 +/- 0.00457\n",
      "       52/1    1.03603    0.99898 +/- 0.00455\n",
      "       53/1    0.97500    0.99843 +/- 0.00447\n",
      "       54/1    0.96814    0.99774 +/- 0.00443\n",
      "       55/1    1.03349    0.99853 +/- 0.00440\n",
      "       56/1    1.02902    0.99920 +/- 0.00435\n",
      "       57/1    1.00023    0.99922 +/- 0.00426\n",
      "       58/1    1.04574    1.00019 +/- 0.00428\n",
      "       59/1    1.00650    1.00031 +/- 0.00419\n",
      "       60/1    0.95236    0.99936 +/- 0.00422\n",
      "       61/1    1.00056    0.99938 +/- 0.00414\n",
      "       62/1    1.02127    0.99980 +/- 0.00408\n",
      "       63/1    1.02664    1.00031 +/- 0.00403\n"
     ]
    },
    {
     "name": "stdout",
     "output_type": "stream",
     "text": [
      "       64/1    0.95264    0.99942 +/- 0.00405\n",
      "       65/1    0.96039    0.99871 +/- 0.00404\n",
      "       66/1    0.94234    0.99771 +/- 0.00409\n",
      "       67/1    0.96698    0.99717 +/- 0.00406\n",
      "       68/1    1.02077    0.99758 +/- 0.00401\n",
      "       69/1    0.95538    0.99686 +/- 0.00400\n",
      "       70/1    1.01303    0.99713 +/- 0.00395\n",
      "       71/1    1.04854    0.99797 +/- 0.00397\n",
      "       72/1    0.96799    0.99749 +/- 0.00394\n",
      "       73/1    0.98670    0.99732 +/- 0.00388\n",
      "       74/1    1.02970    0.99782 +/- 0.00385\n",
      "       75/1    1.05611    0.99872 +/- 0.00389\n",
      "       76/1    1.03884    0.99933 +/- 0.00388\n",
      "       77/1    0.99652    0.99929 +/- 0.00382\n",
      "       78/1    1.00845    0.99942 +/- 0.00377\n",
      "       79/1    0.98702    0.99924 +/- 0.00372\n",
      "       80/1    1.01777    0.99951 +/- 0.00368\n",
      "       81/1    0.95214    0.99884 +/- 0.00368\n",
      "       82/1    0.97901    0.99856 +/- 0.00364\n",
      "       83/1    1.00053    0.99859 +/- 0.00359\n",
      "       84/1    0.98432    0.99840 +/- 0.00355\n",
      "       85/1    1.02532    0.99876 +/- 0.00352\n",
      "       86/1    0.97881    0.99849 +/- 0.00348\n",
      "       87/1    1.05626    0.99924 +/- 0.00352\n",
      "       88/1    0.97416    0.99892 +/- 0.00349\n",
      "       89/1    1.02970    0.99931 +/- 0.00347\n",
      "       90/1    0.94940    0.99869 +/- 0.00348\n",
      "       91/1    1.04226    0.99923 +/- 0.00348\n",
      "       92/1    0.93224    0.99841 +/- 0.00353\n",
      "       93/1    1.08434    0.99944 +/- 0.00364\n",
      "       94/1    1.04199    0.99995 +/- 0.00363\n",
      "       95/1    0.96237    0.99951 +/- 0.00361\n",
      "       96/1    0.97087    0.99918 +/- 0.00359\n",
      "       97/1    0.98467    0.99901 +/- 0.00355\n",
      "       98/1    0.98140    0.99881 +/- 0.00352\n",
      "       99/1    1.03750    0.99924 +/- 0.00350\n",
      "      100/1    1.01771    0.99945 +/- 0.00347\n",
      "      101/1    0.90719    0.99844 +/- 0.00358\n",
      "      102/1    1.03714    0.99886 +/- 0.00356\n",
      "      103/1    0.98711    0.99873 +/- 0.00353\n",
      "      104/1    1.02851    0.99905 +/- 0.00350\n",
      "      105/1    1.02107    0.99928 +/- 0.00347\n",
      "      106/1    0.94918    0.99876 +/- 0.00348\n",
      "      107/1    1.01392    0.99891 +/- 0.00345\n",
      "      108/1    1.00541    0.99898 +/- 0.00341\n",
      "      109/1    0.99394    0.99893 +/- 0.00338\n",
      "      110/1    0.97911    0.99873 +/- 0.00335\n",
      "      111/1    0.97604    0.99851 +/- 0.00332\n",
      "      112/1    1.04675    0.99898 +/- 0.00332\n",
      "      113/1    0.98951    0.99889 +/- 0.00329\n",
      "      114/1    0.97912    0.99870 +/- 0.00327\n",
      "      115/1    1.01832    0.99888 +/- 0.00324\n",
      "      116/1    0.97432    0.99865 +/- 0.00322\n",
      "      117/1    1.00101    0.99867 +/- 0.00319\n",
      "      118/1    1.03282    0.99899 +/- 0.00317\n",
      "      119/1    1.04951    0.99945 +/- 0.00318\n",
      "      120/1    1.04820    0.99990 +/- 0.00318\n",
      "      121/1    0.99406    0.99984 +/- 0.00315\n",
      "      122/1    0.99501    0.99980 +/- 0.00312\n",
      "      123/1    0.96586    0.99950 +/- 0.00311\n",
      "      124/1    1.04492    0.99990 +/- 0.00311\n",
      "      125/1    0.97320    0.99967 +/- 0.00309\n",
      "      126/1    1.07213    1.00029 +/- 0.00313\n",
      "      127/1    1.02139    1.00047 +/- 0.00311\n",
      "      128/1    1.03427    1.00076 +/- 0.00309\n",
      "      129/1    1.00046    1.00076 +/- 0.00307\n",
      "      130/1    1.01619    1.00088 +/- 0.00304\n",
      "      131/1    0.99970    1.00087 +/- 0.00302\n",
      "      132/1    1.01940    1.00103 +/- 0.00300\n",
      "      133/1    1.00804    1.00108 +/- 0.00297\n",
      "      134/1    1.01311    1.00118 +/- 0.00295\n",
      "      135/1    1.04265    1.00151 +/- 0.00295\n",
      "      136/1    0.97476    1.00130 +/- 0.00293\n",
      "      137/1    1.08206    1.00194 +/- 0.00298\n",
      "      138/1    1.02868    1.00214 +/- 0.00296\n",
      "      139/1    0.94944    1.00174 +/- 0.00296\n",
      "      140/1    1.00981    1.00180 +/- 0.00294\n",
      "      141/1    1.05583    1.00221 +/- 0.00295\n",
      "      142/1    1.05680    1.00262 +/- 0.00296\n",
      "      143/1    1.03337    1.00286 +/- 0.00294\n",
      "      144/1    1.05786    1.00327 +/- 0.00295\n",
      "      145/1    1.00445    1.00327 +/- 0.00293\n",
      "      146/1    0.98187    1.00312 +/- 0.00291\n",
      "      147/1    1.03813    1.00337 +/- 0.00290\n",
      "      148/1    1.00659    1.00340 +/- 0.00288\n",
      "      149/1    0.88902    1.00257 +/- 0.00297\n",
      "      150/1    1.07968    1.00312 +/- 0.00300\n",
      " Creating state point statepoint.150.h5...\n",
      "\n",
      " =======================>     TIMING STATISTICS     <=======================\n",
      "\n",
      " Total time for initialization     =  5.9225E+00 seconds\n",
      "   Reading cross sections          =  5.8449E+00 seconds\n",
      " Total time in simulation          =  9.1378E+00 seconds\n",
      "   Time in transport only          =  5.1191E+00 seconds\n",
      "   Time in inactive batches        =  5.8010E-01 seconds\n",
      "   Time in active batches          =  8.5577E+00 seconds\n",
      "   Time synchronizing fission bank =  7.0913E-01 seconds\n",
      "     Sampling source sites         =  4.4842E-03 seconds\n",
      "     SEND/RECV source sites        =  2.1190E-03 seconds\n",
      "   Time accumulating tallies       =  3.5552E-03 seconds\n",
      " Total time for finalization       =  8.4108E-03 seconds\n",
      " Total time elapsed                =  1.5079E+01 seconds\n",
      " Calculation Rate (inactive)       =  17238.5 particles/second\n",
      " Calculation Rate (active)         =  16359.6 particles/second\n",
      "\n",
      " ============================>     RESULTS     <============================\n",
      "\n",
      " k-effective (Collision)     =  1.00226 +/-  0.00259\n",
      " k-effective (Track-length)  =  1.00312 +/-  0.00300\n",
      " k-effective (Absorption)    =  1.00053 +/-  0.00263\n",
      " Combined k-effective        =  1.00159 +/-  0.00207\n",
      " Leakage Fraction            =  0.00004 +/-  0.00002\n",
      "\n"
     ]
    }
   ],
   "source": [
    "# Run OpenMC with 2 MPI processes\n",
    "openmc.run(mpi_args=['mpiexec', '-n', '2'])"
   ]
  },
  {
   "cell_type": "markdown",
   "metadata": {},
   "source": [
    "## Analyze Tally Data"
   ]
  },
  {
   "cell_type": "code",
   "execution_count": 21,
   "metadata": {
    "collapsed": true
   },
   "outputs": [],
   "source": [
    "# Instantiate a StatePoint object\n",
    "from openmc.statepoint import StatePoint\n",
    "filename = 'statepoint.{}.h5'.format(settings.batches)\n",
    "sp = StatePoint(filename)"
   ]
  },
  {
   "cell_type": "code",
   "execution_count": 22,
   "metadata": {},
   "outputs": [
    {
     "data": {
      "text/plain": [
       "{1: Tally\n",
       " \tID             =\t1\n",
       " \tName           =\ta really cool tally\n",
       " \tFilters        =\tCellFilter, EnergyFilter\n",
       " \tNuclides       =\tO16 O17 N14 N15 Ar36 Ar38 Ar40 C0 \n",
       " \tScores         =\t['scatter', 'absorption']\n",
       " \tEstimator      =\ttracklength}"
      ]
     },
     "execution_count": 22,
     "metadata": {},
     "output_type": "execute_result"
    }
   ],
   "source": [
    "# Inspect the StatePoint's tallies\n",
    "sp.tallies"
   ]
  },
  {
   "cell_type": "code",
   "execution_count": 23,
   "metadata": {},
   "outputs": [
    {
     "data": {
      "text/html": [
       "<div>\n",
       "<style scoped>\n",
       "    .dataframe tbody tr th:only-of-type {\n",
       "        vertical-align: middle;\n",
       "    }\n",
       "\n",
       "    .dataframe tbody tr th {\n",
       "        vertical-align: top;\n",
       "    }\n",
       "\n",
       "    .dataframe thead th {\n",
       "        text-align: right;\n",
       "    }\n",
       "</style>\n",
       "<table border=\"1\" class=\"dataframe\">\n",
       "  <thead>\n",
       "    <tr style=\"text-align: right;\">\n",
       "      <th></th>\n",
       "      <th>cell</th>\n",
       "      <th>energy low [eV]</th>\n",
       "      <th>energy high [eV]</th>\n",
       "      <th>nuclide</th>\n",
       "      <th>score</th>\n",
       "      <th>mean</th>\n",
       "      <th>std. dev.</th>\n",
       "    </tr>\n",
       "  </thead>\n",
       "  <tbody>\n",
       "    <tr>\n",
       "      <th>0</th>\n",
       "      <td>145</td>\n",
       "      <td>0.000000e+00</td>\n",
       "      <td>6.250000e-07</td>\n",
       "      <td>O16</td>\n",
       "      <td>scatter</td>\n",
       "      <td>0.000000e+00</td>\n",
       "      <td>0.000000e+00</td>\n",
       "    </tr>\n",
       "    <tr>\n",
       "      <th>1</th>\n",
       "      <td>145</td>\n",
       "      <td>0.000000e+00</td>\n",
       "      <td>6.250000e-07</td>\n",
       "      <td>O16</td>\n",
       "      <td>absorption</td>\n",
       "      <td>0.000000e+00</td>\n",
       "      <td>0.000000e+00</td>\n",
       "    </tr>\n",
       "    <tr>\n",
       "      <th>2</th>\n",
       "      <td>145</td>\n",
       "      <td>0.000000e+00</td>\n",
       "      <td>6.250000e-07</td>\n",
       "      <td>O17</td>\n",
       "      <td>scatter</td>\n",
       "      <td>0.000000e+00</td>\n",
       "      <td>0.000000e+00</td>\n",
       "    </tr>\n",
       "    <tr>\n",
       "      <th>3</th>\n",
       "      <td>145</td>\n",
       "      <td>0.000000e+00</td>\n",
       "      <td>6.250000e-07</td>\n",
       "      <td>O17</td>\n",
       "      <td>absorption</td>\n",
       "      <td>0.000000e+00</td>\n",
       "      <td>0.000000e+00</td>\n",
       "    </tr>\n",
       "    <tr>\n",
       "      <th>4</th>\n",
       "      <td>145</td>\n",
       "      <td>0.000000e+00</td>\n",
       "      <td>6.250000e-07</td>\n",
       "      <td>N14</td>\n",
       "      <td>scatter</td>\n",
       "      <td>0.000000e+00</td>\n",
       "      <td>0.000000e+00</td>\n",
       "    </tr>\n",
       "    <tr>\n",
       "      <th>5</th>\n",
       "      <td>145</td>\n",
       "      <td>0.000000e+00</td>\n",
       "      <td>6.250000e-07</td>\n",
       "      <td>N14</td>\n",
       "      <td>absorption</td>\n",
       "      <td>0.000000e+00</td>\n",
       "      <td>0.000000e+00</td>\n",
       "    </tr>\n",
       "    <tr>\n",
       "      <th>6</th>\n",
       "      <td>145</td>\n",
       "      <td>0.000000e+00</td>\n",
       "      <td>6.250000e-07</td>\n",
       "      <td>N15</td>\n",
       "      <td>scatter</td>\n",
       "      <td>0.000000e+00</td>\n",
       "      <td>0.000000e+00</td>\n",
       "    </tr>\n",
       "    <tr>\n",
       "      <th>7</th>\n",
       "      <td>145</td>\n",
       "      <td>0.000000e+00</td>\n",
       "      <td>6.250000e-07</td>\n",
       "      <td>N15</td>\n",
       "      <td>absorption</td>\n",
       "      <td>0.000000e+00</td>\n",
       "      <td>0.000000e+00</td>\n",
       "    </tr>\n",
       "    <tr>\n",
       "      <th>8</th>\n",
       "      <td>145</td>\n",
       "      <td>0.000000e+00</td>\n",
       "      <td>6.250000e-07</td>\n",
       "      <td>Ar36</td>\n",
       "      <td>scatter</td>\n",
       "      <td>0.000000e+00</td>\n",
       "      <td>0.000000e+00</td>\n",
       "    </tr>\n",
       "    <tr>\n",
       "      <th>9</th>\n",
       "      <td>145</td>\n",
       "      <td>0.000000e+00</td>\n",
       "      <td>6.250000e-07</td>\n",
       "      <td>Ar36</td>\n",
       "      <td>absorption</td>\n",
       "      <td>0.000000e+00</td>\n",
       "      <td>0.000000e+00</td>\n",
       "    </tr>\n",
       "    <tr>\n",
       "      <th>10</th>\n",
       "      <td>145</td>\n",
       "      <td>0.000000e+00</td>\n",
       "      <td>6.250000e-07</td>\n",
       "      <td>Ar38</td>\n",
       "      <td>scatter</td>\n",
       "      <td>0.000000e+00</td>\n",
       "      <td>0.000000e+00</td>\n",
       "    </tr>\n",
       "    <tr>\n",
       "      <th>11</th>\n",
       "      <td>145</td>\n",
       "      <td>0.000000e+00</td>\n",
       "      <td>6.250000e-07</td>\n",
       "      <td>Ar38</td>\n",
       "      <td>absorption</td>\n",
       "      <td>0.000000e+00</td>\n",
       "      <td>0.000000e+00</td>\n",
       "    </tr>\n",
       "    <tr>\n",
       "      <th>12</th>\n",
       "      <td>145</td>\n",
       "      <td>0.000000e+00</td>\n",
       "      <td>6.250000e-07</td>\n",
       "      <td>Ar40</td>\n",
       "      <td>scatter</td>\n",
       "      <td>0.000000e+00</td>\n",
       "      <td>0.000000e+00</td>\n",
       "    </tr>\n",
       "    <tr>\n",
       "      <th>13</th>\n",
       "      <td>145</td>\n",
       "      <td>0.000000e+00</td>\n",
       "      <td>6.250000e-07</td>\n",
       "      <td>Ar40</td>\n",
       "      <td>absorption</td>\n",
       "      <td>0.000000e+00</td>\n",
       "      <td>0.000000e+00</td>\n",
       "    </tr>\n",
       "    <tr>\n",
       "      <th>14</th>\n",
       "      <td>145</td>\n",
       "      <td>0.000000e+00</td>\n",
       "      <td>6.250000e-07</td>\n",
       "      <td>C0</td>\n",
       "      <td>scatter</td>\n",
       "      <td>0.000000e+00</td>\n",
       "      <td>0.000000e+00</td>\n",
       "    </tr>\n",
       "    <tr>\n",
       "      <th>15</th>\n",
       "      <td>145</td>\n",
       "      <td>0.000000e+00</td>\n",
       "      <td>6.250000e-07</td>\n",
       "      <td>C0</td>\n",
       "      <td>absorption</td>\n",
       "      <td>0.000000e+00</td>\n",
       "      <td>0.000000e+00</td>\n",
       "    </tr>\n",
       "    <tr>\n",
       "      <th>16</th>\n",
       "      <td>145</td>\n",
       "      <td>6.250000e-07</td>\n",
       "      <td>2.000000e+01</td>\n",
       "      <td>O16</td>\n",
       "      <td>scatter</td>\n",
       "      <td>3.948362e-07</td>\n",
       "      <td>1.191775e-08</td>\n",
       "    </tr>\n",
       "    <tr>\n",
       "      <th>17</th>\n",
       "      <td>145</td>\n",
       "      <td>6.250000e-07</td>\n",
       "      <td>2.000000e+01</td>\n",
       "      <td>O16</td>\n",
       "      <td>absorption</td>\n",
       "      <td>9.736374e-12</td>\n",
       "      <td>3.962331e-13</td>\n",
       "    </tr>\n",
       "    <tr>\n",
       "      <th>18</th>\n",
       "      <td>145</td>\n",
       "      <td>6.250000e-07</td>\n",
       "      <td>2.000000e+01</td>\n",
       "      <td>O17</td>\n",
       "      <td>scatter</td>\n",
       "      <td>1.452292e-10</td>\n",
       "      <td>4.382518e-12</td>\n",
       "    </tr>\n",
       "    <tr>\n",
       "      <th>19</th>\n",
       "      <td>145</td>\n",
       "      <td>6.250000e-07</td>\n",
       "      <td>2.000000e+01</td>\n",
       "      <td>O17</td>\n",
       "      <td>absorption</td>\n",
       "      <td>4.633191e-12</td>\n",
       "      <td>1.887265e-13</td>\n",
       "    </tr>\n",
       "    <tr>\n",
       "      <th>20</th>\n",
       "      <td>145</td>\n",
       "      <td>6.250000e-07</td>\n",
       "      <td>2.000000e+01</td>\n",
       "      <td>N14</td>\n",
       "      <td>scatter</td>\n",
       "      <td>3.781661e-06</td>\n",
       "      <td>1.142150e-07</td>\n",
       "    </tr>\n",
       "    <tr>\n",
       "      <th>21</th>\n",
       "      <td>145</td>\n",
       "      <td>6.250000e-07</td>\n",
       "      <td>2.000000e+01</td>\n",
       "      <td>N14</td>\n",
       "      <td>absorption</td>\n",
       "      <td>3.615722e-07</td>\n",
       "      <td>1.472842e-08</td>\n",
       "    </tr>\n",
       "    <tr>\n",
       "      <th>22</th>\n",
       "      <td>145</td>\n",
       "      <td>6.250000e-07</td>\n",
       "      <td>2.000000e+01</td>\n",
       "      <td>N15</td>\n",
       "      <td>scatter</td>\n",
       "      <td>6.134877e-09</td>\n",
       "      <td>1.853786e-10</td>\n",
       "    </tr>\n",
       "    <tr>\n",
       "      <th>23</th>\n",
       "      <td>145</td>\n",
       "      <td>6.250000e-07</td>\n",
       "      <td>2.000000e+01</td>\n",
       "      <td>N15</td>\n",
       "      <td>absorption</td>\n",
       "      <td>1.682306e-14</td>\n",
       "      <td>6.843975e-16</td>\n",
       "    </tr>\n",
       "    <tr>\n",
       "      <th>24</th>\n",
       "      <td>145</td>\n",
       "      <td>6.250000e-07</td>\n",
       "      <td>2.000000e+01</td>\n",
       "      <td>Ar36</td>\n",
       "      <td>scatter</td>\n",
       "      <td>1.111606e-09</td>\n",
       "      <td>3.347659e-11</td>\n",
       "    </tr>\n",
       "    <tr>\n",
       "      <th>25</th>\n",
       "      <td>145</td>\n",
       "      <td>6.250000e-07</td>\n",
       "      <td>2.000000e+01</td>\n",
       "      <td>Ar36</td>\n",
       "      <td>absorption</td>\n",
       "      <td>3.880679e-11</td>\n",
       "      <td>1.613462e-12</td>\n",
       "    </tr>\n",
       "    <tr>\n",
       "      <th>26</th>\n",
       "      <td>145</td>\n",
       "      <td>6.250000e-07</td>\n",
       "      <td>2.000000e+01</td>\n",
       "      <td>Ar38</td>\n",
       "      <td>scatter</td>\n",
       "      <td>2.512751e-11</td>\n",
       "      <td>7.566663e-13</td>\n",
       "    </tr>\n",
       "    <tr>\n",
       "      <th>27</th>\n",
       "      <td>145</td>\n",
       "      <td>6.250000e-07</td>\n",
       "      <td>2.000000e+01</td>\n",
       "      <td>Ar38</td>\n",
       "      <td>absorption</td>\n",
       "      <td>1.181439e-12</td>\n",
       "      <td>5.081241e-14</td>\n",
       "    </tr>\n",
       "    <tr>\n",
       "      <th>28</th>\n",
       "      <td>145</td>\n",
       "      <td>6.250000e-07</td>\n",
       "      <td>2.000000e+01</td>\n",
       "      <td>Ar40</td>\n",
       "      <td>scatter</td>\n",
       "      <td>2.916933e-09</td>\n",
       "      <td>8.783025e-11</td>\n",
       "    </tr>\n",
       "    <tr>\n",
       "      <th>29</th>\n",
       "      <td>145</td>\n",
       "      <td>6.250000e-07</td>\n",
       "      <td>2.000000e+01</td>\n",
       "      <td>Ar40</td>\n",
       "      <td>absorption</td>\n",
       "      <td>1.497806e-09</td>\n",
       "      <td>6.103266e-11</td>\n",
       "    </tr>\n",
       "    <tr>\n",
       "      <th>30</th>\n",
       "      <td>145</td>\n",
       "      <td>6.250000e-07</td>\n",
       "      <td>2.000000e+01</td>\n",
       "      <td>C0</td>\n",
       "      <td>scatter</td>\n",
       "      <td>6.291785e-10</td>\n",
       "      <td>1.901792e-11</td>\n",
       "    </tr>\n",
       "    <tr>\n",
       "      <th>31</th>\n",
       "      <td>145</td>\n",
       "      <td>6.250000e-07</td>\n",
       "      <td>2.000000e+01</td>\n",
       "      <td>C0</td>\n",
       "      <td>absorption</td>\n",
       "      <td>2.546686e-13</td>\n",
       "      <td>1.037323e-14</td>\n",
       "    </tr>\n",
       "  </tbody>\n",
       "</table>\n",
       "</div>"
      ],
      "text/plain": [
       "    cell  energy low [eV]  energy high [eV] nuclide       score     mean  \\\n",
       "0    145         0.00e+00          6.25e-07     O16     scatter 0.00e+00   \n",
       "1    145         0.00e+00          6.25e-07     O16  absorption 0.00e+00   \n",
       "2    145         0.00e+00          6.25e-07     O17     scatter 0.00e+00   \n",
       "3    145         0.00e+00          6.25e-07     O17  absorption 0.00e+00   \n",
       "4    145         0.00e+00          6.25e-07     N14     scatter 0.00e+00   \n",
       "5    145         0.00e+00          6.25e-07     N14  absorption 0.00e+00   \n",
       "6    145         0.00e+00          6.25e-07     N15     scatter 0.00e+00   \n",
       "7    145         0.00e+00          6.25e-07     N15  absorption 0.00e+00   \n",
       "8    145         0.00e+00          6.25e-07    Ar36     scatter 0.00e+00   \n",
       "9    145         0.00e+00          6.25e-07    Ar36  absorption 0.00e+00   \n",
       "10   145         0.00e+00          6.25e-07    Ar38     scatter 0.00e+00   \n",
       "11   145         0.00e+00          6.25e-07    Ar38  absorption 0.00e+00   \n",
       "12   145         0.00e+00          6.25e-07    Ar40     scatter 0.00e+00   \n",
       "13   145         0.00e+00          6.25e-07    Ar40  absorption 0.00e+00   \n",
       "14   145         0.00e+00          6.25e-07      C0     scatter 0.00e+00   \n",
       "15   145         0.00e+00          6.25e-07      C0  absorption 0.00e+00   \n",
       "16   145         6.25e-07          2.00e+01     O16     scatter 3.95e-07   \n",
       "17   145         6.25e-07          2.00e+01     O16  absorption 9.74e-12   \n",
       "18   145         6.25e-07          2.00e+01     O17     scatter 1.45e-10   \n",
       "19   145         6.25e-07          2.00e+01     O17  absorption 4.63e-12   \n",
       "20   145         6.25e-07          2.00e+01     N14     scatter 3.78e-06   \n",
       "21   145         6.25e-07          2.00e+01     N14  absorption 3.62e-07   \n",
       "22   145         6.25e-07          2.00e+01     N15     scatter 6.13e-09   \n",
       "23   145         6.25e-07          2.00e+01     N15  absorption 1.68e-14   \n",
       "24   145         6.25e-07          2.00e+01    Ar36     scatter 1.11e-09   \n",
       "25   145         6.25e-07          2.00e+01    Ar36  absorption 3.88e-11   \n",
       "26   145         6.25e-07          2.00e+01    Ar38     scatter 2.51e-11   \n",
       "27   145         6.25e-07          2.00e+01    Ar38  absorption 1.18e-12   \n",
       "28   145         6.25e-07          2.00e+01    Ar40     scatter 2.92e-09   \n",
       "29   145         6.25e-07          2.00e+01    Ar40  absorption 1.50e-09   \n",
       "30   145         6.25e-07          2.00e+01      C0     scatter 6.29e-10   \n",
       "31   145         6.25e-07          2.00e+01      C0  absorption 2.55e-13   \n",
       "\n",
       "    std. dev.  \n",
       "0    0.00e+00  \n",
       "1    0.00e+00  \n",
       "2    0.00e+00  \n",
       "3    0.00e+00  \n",
       "4    0.00e+00  \n",
       "5    0.00e+00  \n",
       "6    0.00e+00  \n",
       "7    0.00e+00  \n",
       "8    0.00e+00  \n",
       "9    0.00e+00  \n",
       "10   0.00e+00  \n",
       "11   0.00e+00  \n",
       "12   0.00e+00  \n",
       "13   0.00e+00  \n",
       "14   0.00e+00  \n",
       "15   0.00e+00  \n",
       "16   1.19e-08  \n",
       "17   3.96e-13  \n",
       "18   4.38e-12  \n",
       "19   1.89e-13  \n",
       "20   1.14e-07  \n",
       "21   1.47e-08  \n",
       "22   1.85e-10  \n",
       "23   6.84e-16  \n",
       "24   3.35e-11  \n",
       "25   1.61e-12  \n",
       "26   7.57e-13  \n",
       "27   5.08e-14  \n",
       "28   8.78e-11  \n",
       "29   6.10e-11  \n",
       "30   1.90e-11  \n",
       "31   1.04e-14  "
      ]
     },
     "execution_count": 23,
     "metadata": {},
     "output_type": "execute_result"
    }
   ],
   "source": [
    "# Get a Pandas DataFrame of the tally data\n",
    "tally = sp.get_tally(name='a really cool tally')\n",
    "tally.get_pandas_dataframe()"
   ]
  },
  {
   "cell_type": "markdown",
   "metadata": {},
   "source": [
    "And I'll leave it up to you at this point :-)"
   ]
  }
 ],
 "metadata": {
  "kernelspec": {
   "display_name": "Python 3",
   "language": "python",
   "name": "python3"
  },
  "language_info": {
   "codemirror_mode": {
    "name": "ipython",
    "version": 3
   },
   "file_extension": ".py",
   "mimetype": "text/x-python",
   "name": "python",
   "nbconvert_exporter": "python",
   "pygments_lexer": "ipython3",
   "version": "3.5.5"
  }
 },
 "nbformat": 4,
 "nbformat_minor": 1
}
